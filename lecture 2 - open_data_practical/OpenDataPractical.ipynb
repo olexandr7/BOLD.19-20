{
 "cells": [
  {
   "cell_type": "code",
   "execution_count": 198,
   "metadata": {},
   "outputs": [],
   "source": [
    "#Importing libraries\n",
    "import pandas\n",
    "import csv"
   ]
  },
  {
   "cell_type": "code",
   "execution_count": 199,
   "metadata": {},
   "outputs": [],
   "source": [
    "#Reading csv files\n",
    "population_df = pandas.read_csv('county_population.csv', encoding = 'utf8')\n",
    "#print(population_df)\n",
    "testresults_df = pandas.read_csv('opendata_covid19_test_results.csv', encoding = 'utf8')\n",
    "#print(testresults_df)"
   ]
  },
  {
   "cell_type": "code",
   "execution_count": 200,
   "metadata": {
    "scrolled": true
   },
   "outputs": [
    {
     "data": {
      "text/plain": [
       "id                      0\n",
       "Gender                  0\n",
       "AgeGroup              164\n",
       "Country                 0\n",
       "County                627\n",
       "ResultValue             0\n",
       "StatisticsDate          0\n",
       "ResultTime              0\n",
       "AnalysisInsertTime      0\n",
       "dtype: int64"
      ]
     },
     "execution_count": 200,
     "metadata": {},
     "output_type": "execute_result"
    }
   ],
   "source": [
    "#Data quality check - weather NULLS are in required coulmns\n",
    "pandas.isna(testresults_df).sum()\n",
    "#627 tests don't have County specified"
   ]
  },
  {
   "cell_type": "code",
   "execution_count": 178,
   "metadata": {},
   "outputs": [
    {
     "data": {
      "text/plain": [
       "Tundmatu    408\n",
       "Välismaa    215\n",
       "Eesti         4\n",
       "Name: Country, dtype: int64"
      ]
     },
     "execution_count": 178,
     "metadata": {},
     "output_type": "execute_result"
    }
   ],
   "source": [
    "#Rows where County=NULL\n",
    "testresults_df.loc[testresults_df['County'].isna()].Country.value_counts()\n",
    "#4 tests from Estonia have no County specified"
   ]
  },
  {
   "cell_type": "code",
   "execution_count": 193,
   "metadata": {},
   "outputs": [],
   "source": [
    "#Aggegating results by Counties\n",
    "testresults_df_grouped = testresults_df.groupby('County')['ResultValue'].count().to_frame()"
   ]
  },
  {
   "cell_type": "code",
   "execution_count": 180,
   "metadata": {},
   "outputs": [],
   "source": [
    "#Joining 2 datasets (testing results and population numbers)\n",
    "casesbycounty_df = pandas.merge(testresults_df_grouped, population_df, how='inner', left_on = 'County', right_on = 'CountyName')"
   ]
  },
  {
   "cell_type": "code",
   "execution_count": 181,
   "metadata": {},
   "outputs": [],
   "source": [
    "#Reordering and renaming columns\n",
    "column_names = ['CountyName', 'ShortName', 'Population', 'ResultValue']\n",
    "casesbycounty_df = casesbycounty_df.reindex(columns=column_names)\n",
    "casesbycounty_df = casesbycounty_df.rename(columns={'ResultValue': 'TestsCount', 'Population': 'PopulationCount'})"
   ]
  },
  {
   "cell_type": "code",
   "execution_count": 190,
   "metadata": {},
   "outputs": [],
   "source": [
    "#Calculating percentage of tested population\n",
    "casesbycounty_df['TestedPopulation'] = ((casesbycounty_df.TestsCount / casesbycounty_df.PopulationCount)*100)\n",
    "\n",
    "#Adding column with Country name\n",
    "casesbycounty_df['Country']='Estonia'"
   ]
  },
  {
   "cell_type": "code",
   "execution_count": 192,
   "metadata": {},
   "outputs": [],
   "source": [
    "#Writing the blended dataset to csv\n",
    "casesbycounty_df.to_csv('tests_by_county.csv', sep='\\t', encoding='utf-8', float_format='%11.6f')"
   ]
  },
  {
   "cell_type": "code",
   "execution_count": null,
   "metadata": {},
   "outputs": [],
   "source": [
    "#Aggegating results by Counties + Gender\n",
    "#casesbycountygender_df = testresults_df.groupby(['County','Gender'])['ResultValue'].count().to_frame()\n",
    "#Writing the dataset to csv\n",
    "#casesbycountygender_df.to_csv('tests_by_county_gender.csv', sep='\\t', encoding='utf-8')"
   ]
  }
 ],
 "metadata": {
  "kernelspec": {
   "display_name": "Python 3",
   "language": "python",
   "name": "python3"
  },
  "language_info": {
   "codemirror_mode": {
    "name": "ipython",
    "version": 3
   },
   "file_extension": ".py",
   "mimetype": "text/x-python",
   "name": "python",
   "nbconvert_exporter": "python",
   "pygments_lexer": "ipython3",
   "version": "3.6.5"
  }
 },
 "nbformat": 4,
 "nbformat_minor": 2
}
